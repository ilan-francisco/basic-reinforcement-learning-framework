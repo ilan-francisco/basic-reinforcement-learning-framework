{
 "cells": [
  {
   "cell_type": "code",
   "execution_count": 1,
   "id": "initial_id",
   "metadata": {
    "collapsed": true,
    "ExecuteTime": {
     "end_time": "2023-12-17T23:31:32.535586677Z",
     "start_time": "2023-12-17T23:31:15.622905189Z"
    }
   },
   "outputs": [
    {
     "name": "stderr",
     "output_type": "stream",
     "text": [
      "/data_lids/home/ilansilva/.cache/pypoetry/virtualenvs/rl-final-project-VQ_uW-z5-py3.10/lib/python3.10/site-packages/gymnasium/envs/registration.py:513: DeprecationWarning: \u001B[33mWARN: The environment CartPole-v0 is out of date. You should consider upgrading to version `v1`.\u001B[0m\n",
      "  logger.deprecation(\n",
      "/data_lids/home/ilansilva/PycharmProjects/rl-final-project/src/rl_final_project/environment.py:31: RuntimeWarning: overflow encountered in exp\n",
      "  1 / (1 + np.exp(-self.env.observation_space.low)) - 0.5\n"
     ]
    },
    {
     "data": {
      "text/plain": "  0%|          | 0/1000 [00:00<?, ?it/s]",
      "application/vnd.jupyter.widget-view+json": {
       "version_major": 2,
       "version_minor": 0,
       "model_id": "ab0e0e5434de4c3cad1a29173ac88ac4"
      }
     },
     "metadata": {},
     "output_type": "display_data"
    },
    {
     "data": {
      "text/plain": "70.09"
     },
     "execution_count": 1,
     "metadata": {},
     "output_type": "execute_result"
    }
   ],
   "source": [
    "from rl_final_project.control import QLearningControl\n",
    "from rl_final_project.agent import Agent\n",
    "from rl_final_project.q_functions import QLinear\n",
    "from rl_final_project.environment import EnvironmentNormalizer\n",
    "import gymnasium as gym\n",
    "\n",
    "\n",
    "env = gym.make(\"CartPole-v0\")\n",
    "env = EnvironmentNormalizer(env)\n",
    "n_states = env.observation_space.shape[0]\n",
    "q_function = QLinear(\n",
    "    n_actions=env.action_space.n,\n",
    "    n_feat=n_states,\n",
    "    discrete_scale=2,\n",
    ")\n",
    "agent = Agent(q_function, n0=1, n_actions=env.action_space.n, stochasticity_factor=0.4)\n",
    "control = QLearningControl(\n",
    "    env, agent, num_episodes=1000, gamma=0.9, batch_size=4\n",
    ")\n",
    "control.fit()"
   ]
  },
  {
   "cell_type": "code",
   "execution_count": null,
   "outputs": [],
   "source": [],
   "metadata": {
    "collapsed": false
   },
   "id": "63e9eaef969f5765"
  }
 ],
 "metadata": {
  "kernelspec": {
   "display_name": "Python 3",
   "language": "python",
   "name": "python3"
  },
  "language_info": {
   "codemirror_mode": {
    "name": "ipython",
    "version": 2
   },
   "file_extension": ".py",
   "mimetype": "text/x-python",
   "name": "python",
   "nbconvert_exporter": "python",
   "pygments_lexer": "ipython2",
   "version": "2.7.6"
  }
 },
 "nbformat": 4,
 "nbformat_minor": 5
}
